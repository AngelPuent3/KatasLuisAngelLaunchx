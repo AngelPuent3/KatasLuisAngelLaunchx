{
 "cells": [
  {
   "cell_type": "markdown",
   "metadata": {},
   "source": [
    "## Eje: Uso de funciones Python\n",
    "Ejercicio 1"
   ]
  },
  {
   "cell_type": "code",
   "execution_count": 12,
   "metadata": {},
   "outputs": [
    {
     "name": "stdout",
     "output_type": "stream",
     "text": [
      "\"Reporte de los tanques:  \n",
      "    Promedio total: 60.0%\n",
      "    Tanque principal: 40%\n",
      "    Tanque externo: 87%\n",
      "    Tanque hidrogeno: 53% \n",
      "    \n",
      "\"Reporte de los tanques:  \n",
      "    Promedio total: 59.666666666666664%\n",
      "    Tanque principal: 84%\n",
      "    Tanque externo: 21%\n",
      "    Tanque hidrogeno: 74% \n",
      "    \n"
     ]
    }
   ],
   "source": [
    "def reporte(tanquePrincipal, tanqueExterno, tanqueHidrogeno):\n",
    "    promedioTotal=(tanquePrincipal + tanqueExterno + tanqueHidrogeno) / 3\n",
    "    return f\"\"\"\"Reporte de los tanques:  \n",
    "    Promedio total: {promedioTotal}%\n",
    "    Tanque principal: {tanquePrincipal}%\n",
    "    Tanque externo: {tanqueExterno}%\n",
    "    Tanque hidrogeno: {tanqueHidrogeno}% \n",
    "    \"\"\"\n",
    "# Imprimir funcion\n",
    "print (reporte(40,87,53))\n",
    "# Creacion de la funcion promedio\n",
    "def promedio(valor):\n",
    "    total = sum(valor)\n",
    "    numeroItems = len(valor)\n",
    "    return total / numeroItems\n",
    "# Test para promediar la funcion con los items de la lista\n",
    "promedio([75,56,40])\n",
    "# Funcion actualizada\n",
    "def reporte(tanquePrincipal, tanqueExterno, tanqueHidrogeno):\n",
    "    return f\"\"\"\"Reporte de los tanques:  \n",
    "    Promedio total: {promedio([tanquePrincipal, tanqueExterno, tanqueHidrogeno])}%\n",
    "    Tanque principal: {tanquePrincipal}%\n",
    "    Tanque externo: {tanqueExterno}%\n",
    "    Tanque hidrogeno: {tanqueHidrogeno}% \n",
    "    \"\"\"\n",
    "# Llama la funcion actualizada con diferentes valores\n",
    "print (reporte(84,21,74))\n"
   ]
  },
  {
   "cell_type": "markdown",
   "metadata": {},
   "source": [
    "Ejercicio 2"
   ]
  },
  {
   "cell_type": "code",
   "execution_count": 3,
   "metadata": {},
   "outputs": [
    {
     "name": "stdout",
     "output_type": "stream",
     "text": [
      "\n",
      "    Mision a la Luna\n",
      "    Tiempo total del viaje: 65 minutos\n",
      "    Combustible restante: 500000 galones\n",
      "    \n",
      "\n",
      "    Mision a la Luna\n",
      "    Tiempo total del viaje: 76 minutos\n",
      "    Combustible restante: 500000\n",
      "    \n",
      "\n",
      "    Mision a Luna\n",
      "    Tiempo total del viaje: 74 minutos\n",
      "    Combustible restante: 500000\n",
      "    principal tanques --> 300000 galones restantes\n",
      "externo tanques --> 200000 galones restantes\n",
      "\n"
     ]
    }
   ],
   "source": [
    "# Función que contiene los parametros \n",
    "\n",
    "def misionReporte(preLaunchTime, horaVuelo, destination, tanqueExterno, tanquePrincipal):\n",
    "    return f\"\"\"\n",
    "    Mision a la {destination}\n",
    "    Tiempo total del viaje: {preLaunchTime + horaVuelo} minutos\n",
    "    Combustible restante: {tanqueExterno + tanquePrincipal} galones\n",
    "    \"\"\"\n",
    "\n",
    "print(misionReporte(14, 51, \"Luna\", 200000, 300000))\n",
    "# Nueva función de reporte considerando lo anterior\n",
    "\n",
    "def misionReporte(destination, *minutos, **fuelReservoirs):\n",
    "    return f\"\"\"\n",
    "    Mision a la {destination}\n",
    "    Tiempo total del viaje: {sum(minutos)} minutos\n",
    "    Combustible restante: {sum(fuelReservoirs.values())}\n",
    "    \"\"\"\n",
    "\n",
    "print(misionReporte(\"Luna\", 10, 15, 51, principal=300000, externo=200000))\n",
    "# Funcion actualizada\n",
    "\n",
    "def misionReporte(destination, *minutos, **fuelReservoirs):\n",
    "    reportePrincipal = f\"\"\"\n",
    "    Mision a {destination}\n",
    "    Tiempo total del viaje: {sum(minutos)} minutos\n",
    "    Combustible restante: {sum(fuelReservoirs.values())}\n",
    "    \"\"\"\n",
    "    for tank_name, gallons in fuelReservoirs.items():\n",
    "        reportePrincipal += f\"{tank_name} tanques --> {gallons} galones restantes\\n\"\n",
    "    return reportePrincipal\n",
    "\n",
    "print(misionReporte(\"Luna\", 8, 11, 55, principal=300000, externo=200000))\n"
   ]
  }
 ],
 "metadata": {
  "interpreter": {
   "hash": "06cca5850bca47ce24d40969d3d45ba8e554a2f783eefd8befd8de7be8f81300"
  },
  "kernelspec": {
   "display_name": "Python 3.10.2 64-bit",
   "language": "python",
   "name": "python3"
  },
  "language_info": {
   "codemirror_mode": {
    "name": "ipython",
    "version": 3
   },
   "file_extension": ".py",
   "mimetype": "text/x-python",
   "name": "python",
   "nbconvert_exporter": "python",
   "pygments_lexer": "ipython3",
   "version": "3.10.2"
  },
  "orig_nbformat": 4
 },
 "nbformat": 4,
 "nbformat_minor": 2
}
