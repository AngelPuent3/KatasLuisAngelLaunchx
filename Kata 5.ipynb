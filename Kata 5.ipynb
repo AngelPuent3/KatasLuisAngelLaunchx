{
 "cells": [
  {
   "cell_type": "markdown",
   "metadata": {},
   "source": [
    "## Distancia entre planetas\n",
    "Ejercicio 1 >> Operadores aritmeticos\n"
   ]
  },
  {
   "cell_type": "code",
   "execution_count": 6,
   "metadata": {},
   "outputs": [
    {
     "name": "stdout",
     "output_type": "stream",
     "text": [
      "4345500000\n",
      "2698555500.0\n"
     ]
    }
   ],
   "source": [
    "Tierra = 149600000\n",
    "Neptuno\t= 4495100000\n",
    "distance = Neptuno -Tierra\n",
    "print(distance)\n",
    "\n",
    "distance_mi = distance * 0.621\n",
    "print(distance_mi)\n",
    "\n",
    "\n"
   ]
  },
  {
   "cell_type": "markdown",
   "metadata": {},
   "source": [
    "## De cadenas a enteros\n",
    "Ejercicio 2"
   ]
  },
  {
   "cell_type": "code",
   "execution_count": 7,
   "metadata": {},
   "outputs": [
    {
     "name": "stdout",
     "output_type": "stream",
     "text": [
      "1000\n",
      "621.0\n"
     ]
    }
   ],
   "source": [
    "# Traer la variable desde teclado\n",
    "Mercurio = input('Introduzca la distancia del sol para el primer planeta en KM')\n",
    "Jupiter = input('Introduzca la distancia desde el sol para el segundo planeta en KM')\n",
    "# Convertir a tipo entero\n",
    "Mercurio = int(Mercurio)\n",
    "Jupiter = int(Jupiter)\n",
    "# Calcula la ditancia entre los planetas\n",
    "distance_km = Jupiter - Mercurio\n",
    "print(distance_km)\n",
    "\n",
    "# Convertir de KM a Millas\n",
    "distance_mi = distance_km * 0.621\n",
    "print(abs(distance_mi))"
   ]
  }
 ],
 "metadata": {
  "interpreter": {
   "hash": "06cca5850bca47ce24d40969d3d45ba8e554a2f783eefd8befd8de7be8f81300"
  },
  "kernelspec": {
   "display_name": "Python 3.10.2 64-bit",
   "language": "python",
   "name": "python3"
  },
  "language_info": {
   "codemirror_mode": {
    "name": "ipython",
    "version": 3
   },
   "file_extension": ".py",
   "mimetype": "text/x-python",
   "name": "python",
   "nbconvert_exporter": "python",
   "pygments_lexer": "ipython3",
   "version": "3.10.2"
  },
  "orig_nbformat": 4
 },
 "nbformat": 4,
 "nbformat_minor": 2
}
