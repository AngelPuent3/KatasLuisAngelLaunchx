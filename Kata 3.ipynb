{
 "cells": [
  {
   "cell_type": "markdown",
   "metadata": {},
   "source": [
    "## Asteroides\n",
    "Ejercicios de declaraciones if, elif y else"
   ]
  },
  {
   "cell_type": "code",
   "execution_count": 2,
   "metadata": {},
   "outputs": [
    {
     "name": "stdout",
     "output_type": "stream",
     "text": [
      "¿Que es esto? un rayo de luz del cielo aparece\n"
     ]
    }
   ],
   "source": [
    "velocidadAsteroide= 25\n",
    "tamañoDeAsteroide= 40\n",
    "if velocidadAsteroide > 25 and velocidadAsteroide < 1000:\n",
    "    print(\"¡Cuidado! Un asteroide muy peligroso se aproxima\")\n",
    "elif velocidadAsteroide > 20 or velocidadAsteroide = 0:\n",
    "    print (\"¿Que es esto? un rayo de luz del cielo aparece\")\n",
    "elif tamañoDeAsteroide < 25:\n",
    "    print (\"Hoy es un dia normal\")\n",
    "else:\n",
    "    exit(\"Adios! ☺\")"
   ]
  },
  {
   "cell_type": "code",
   "execution_count": 6,
   "metadata": {},
   "outputs": [
    {
     "name": "stdout",
     "output_type": "stream",
     "text": [
      "¡Cuidado! Un asteroide muy peligroso se aproxima\n"
     ]
    }
   ],
   "source": [
    "velocidadAsteroide= 90\n",
    "tamañoDeAsteroide= 60\n",
    "if velocidadAsteroide > 25 and velocidadAsteroide < 1000:\n",
    "    print(\"¡Cuidado! Un asteroide muy peligroso se aproxima\")\n",
    "elif velocidadAsteroide > 20 or velocidadAsteroide = 0:\n",
    "    print (\"¿Que es esto? un rayo de luz del cielo aparece\")\n",
    "elif tamañoDeAsteroide < 25:\n",
    "    print (\"Hoy es un dia normal\")\n",
    "else:\n",
    "    exit(\"Adios! ☺\")"
   ]
  },
  {
   "cell_type": "code",
   "execution_count": 5,
   "metadata": {},
   "outputs": [
    {
     "name": "stdout",
     "output_type": "stream",
     "text": [
      "Hoy es un dia normal\n"
     ]
    }
   ],
   "source": [
    "velocidadAsteroide= 19\n",
    "tamañoDeAsteroide= 10\n",
    "if velocidadAsteroide > 25 and velocidadAsteroide < 1000:\n",
    "    print(\"¡Cuidado! Un asteroide muy peligroso se aproxima\")\n",
    "elif velocidadAsteroide > 20 or velocidadAsteroide = 0:\n",
    "    print (\"¿Que es esto? un rayo de luz del cielo aparece\")\n",
    "elif tamañoDeAsteroide < 25:\n",
    "    print (\"Hoy es un dia normal\")\n",
    "else:\n",
    "    exit(\"Adios! ☺\")"
   ]
  }
 ],
 "metadata": {
  "interpreter": {
   "hash": "06cca5850bca47ce24d40969d3d45ba8e554a2f783eefd8befd8de7be8f81300"
  },
  "kernelspec": {
   "display_name": "Python 3.10.2 64-bit",
   "language": "python",
   "name": "python3"
  },
  "language_info": {
   "codemirror_mode": {
    "name": "ipython",
    "version": 3
   },
   "file_extension": ".py",
   "mimetype": "text/x-python",
   "name": "python",
   "nbconvert_exporter": "python",
   "pygments_lexer": "ipython3",
   "version": "3.10.2"
  },
  "orig_nbformat": 4
 },
 "nbformat": 4,
 "nbformat_minor": 2
}
