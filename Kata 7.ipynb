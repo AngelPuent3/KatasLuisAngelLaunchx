{
 "cells": [
  {
   "cell_type": "markdown",
   "metadata": {},
   "source": [
    "## Creacion de un bluce while\n",
    "Ejercicio 1"
   ]
  },
  {
   "cell_type": "code",
   "execution_count": 5,
   "metadata": {},
   "outputs": [
    {
     "name": "stdout",
     "output_type": "stream",
     "text": [
      "Tierra\n",
      "Tierra\n",
      "Marte\n",
      "Tierra\n",
      "Marte\n",
      "Jupiter\n",
      "Tierra\n",
      "Marte\n",
      "Jupiter\n",
      "Saturno\n"
     ]
    }
   ],
   "source": [
    "#Creacion de variables\n",
    "nuevosPlanetas = \"\"\n",
    "planetas = []\n",
    "# Implementacion ciclo while para agregar nuevos planetas a la lista\n",
    "while nuevosPlanetas.lower() != \"done\":\n",
    "    if nuevosPlanetas:\n",
    "        planetas.append(nuevosPlanetas)\n",
    "    nuevosPlanetas = input('Ingresar nuevos planetas')\n",
    "    for planeta in planetas: #Ejercicio 2, ciclo para interar lista\n",
    "        print(planeta)\n",
    "   \n",
    "\n",
    "\n",
    "\n"
   ]
  },
  {
   "cell_type": "code",
   "execution_count": null,
   "metadata": {},
   "outputs": [],
   "source": []
  }
 ],
 "metadata": {
  "interpreter": {
   "hash": "06cca5850bca47ce24d40969d3d45ba8e554a2f783eefd8befd8de7be8f81300"
  },
  "kernelspec": {
   "display_name": "Python 3.10.2 64-bit",
   "language": "python",
   "name": "python3"
  },
  "language_info": {
   "codemirror_mode": {
    "name": "ipython",
    "version": 3
   },
   "file_extension": ".py",
   "mimetype": "text/x-python",
   "name": "python",
   "nbconvert_exporter": "python",
   "pygments_lexer": "ipython3",
   "version": "3.10.2"
  },
  "orig_nbformat": 4
 },
 "nbformat": 4,
 "nbformat_minor": 2
}
